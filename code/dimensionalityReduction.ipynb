{
 "cells": [
  {
   "cell_type": "code",
   "execution_count": 1,
   "id": "55a78c46",
   "metadata": {},
   "outputs": [],
   "source": [
    "from sklearn import preprocessing, datasets, decomposition\n",
    "\n"
   ]
  },
  {
   "cell_type": "code",
   "execution_count": 6,
   "id": "537c7bc9",
   "metadata": {},
   "outputs": [
    {
     "data": {
      "text/plain": [
       "(54, 64)"
      ]
     },
     "execution_count": 6,
     "metadata": {},
     "output_type": "execute_result"
    }
   ],
   "source": [
    "digits = datasets.load_digits()\n",
    "features = preprocessing.StandardScaler().fit_transform(digits.data)\n",
    "pca = decomposition.PCA(n_components=0.99, whiten=True)\n",
    "pca_features = pca.fit_transform(features)\n",
    "pca_features.shape[1], features.shape[1]"
   ]
  }
 ],
 "metadata": {
  "kernelspec": {
   "display_name": ".venv",
   "language": "python",
   "name": "python3"
  },
  "language_info": {
   "codemirror_mode": {
    "name": "ipython",
    "version": 3
   },
   "file_extension": ".py",
   "mimetype": "text/x-python",
   "name": "python",
   "nbconvert_exporter": "python",
   "pygments_lexer": "ipython3",
   "version": "3.12.3"
  }
 },
 "nbformat": 4,
 "nbformat_minor": 5
}
