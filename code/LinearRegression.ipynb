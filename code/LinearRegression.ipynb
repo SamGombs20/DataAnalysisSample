{
 "cells": [
  {
   "cell_type": "code",
   "execution_count": 69,
   "id": "09bc2d8a",
   "metadata": {},
   "outputs": [],
   "source": [
    "from sklearn.linear_model import LinearRegression\n",
    "from sklearn.datasets import make_regression\n",
    "from sklearn import  preprocessing\n"
   ]
  },
  {
   "cell_type": "code",
   "execution_count": 70,
   "id": "ee11eddc",
   "metadata": {},
   "outputs": [
    {
     "data": {
      "text/plain": [
       "((100,), (100, 3))"
      ]
     },
     "execution_count": 70,
     "metadata": {},
     "output_type": "execute_result"
    }
   ],
   "source": [
    "features, target = make_regression(n_samples=100, n_features=3, n_informative=2,noise=0.2,coef=False,random_state=1)\n",
    "target.shape, features.shape"
   ]
  },
  {
   "cell_type": "code",
   "execution_count": 71,
   "id": "92969f16",
   "metadata": {},
   "outputs": [],
   "source": [
    "regression = LinearRegression()\n",
    "model = regression.fit(features, target)"
   ]
  },
  {
   "cell_type": "code",
   "execution_count": 72,
   "id": "12a4f46f",
   "metadata": {},
   "outputs": [
    {
     "data": {
      "text/plain": [
       "np.float64(-0.009650118178816669)"
      ]
     },
     "execution_count": 72,
     "metadata": {},
     "output_type": "execute_result"
    }
   ],
   "source": [
    "#View the intercept\n",
    "model.intercept_"
   ]
  },
  {
   "cell_type": "code",
   "execution_count": 73,
   "id": "1c309ced",
   "metadata": {},
   "outputs": [
    {
     "data": {
      "text/plain": [
       "array([1.95531234e-02, 4.42087450e+01, 5.81494563e+01])"
      ]
     },
     "execution_count": 73,
     "metadata": {},
     "output_type": "execute_result"
    }
   ],
   "source": [
    "#Viewing the coefficients\n",
    "model.coef_"
   ]
  },
  {
   "cell_type": "code",
   "execution_count": 74,
   "id": "fb62a714",
   "metadata": {},
   "outputs": [
    {
     "data": {
      "text/plain": [
       "0.9999901732607787"
      ]
     },
     "execution_count": 74,
     "metadata": {},
     "output_type": "execute_result"
    }
   ],
   "source": [
    "#Check the model score\n",
    "model.score(features, target)"
   ]
  },
  {
   "cell_type": "code",
   "execution_count": 75,
   "id": "70d4ad3b",
   "metadata": {},
   "outputs": [
    {
     "data": {
      "text/plain": [
       "((100, 3), (100, 9))"
      ]
     },
     "execution_count": 75,
     "metadata": {},
     "output_type": "execute_result"
    }
   ],
   "source": [
    "#Fitting a non-linear relationship\n",
    "features, target = make_regression(n_samples=100, n_features=3, n_informative=2, noise=0.2, random_state=1)\n",
    "polynomial = preprocessing.PolynomialFeatures(degree=2, include_bias=False)\n",
    "poly_features = polynomial.fit_transform(features)\n",
    "# regression = LinearRegression()\n",
    "# model = regression.fit(poly_features, target)\n",
    "# model.coef_\n",
    "features.shape, poly_features.shape"
   ]
  },
  {
   "cell_type": "code",
   "execution_count": null,
   "id": "7edc5c0f",
   "metadata": {},
   "outputs": [],
   "source": []
  }
 ],
 "metadata": {
  "kernelspec": {
   "display_name": ".venv",
   "language": "python",
   "name": "python3"
  },
  "language_info": {
   "codemirror_mode": {
    "name": "ipython",
    "version": 3
   },
   "file_extension": ".py",
   "mimetype": "text/x-python",
   "name": "python",
   "nbconvert_exporter": "python",
   "pygments_lexer": "ipython3",
   "version": "3.12.3"
  }
 },
 "nbformat": 4,
 "nbformat_minor": 5
}
